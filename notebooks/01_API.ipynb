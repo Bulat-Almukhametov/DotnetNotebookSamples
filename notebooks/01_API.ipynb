{
 "cells": [
  {
   "cell_type": "markdown",
   "id": "148640ca-f053-4b5a-8bf1-9a5c9828d98e",
   "metadata": {},
   "source": [
    "# 🌐 API calls\n",
    "\n",
    "[↩️ Back to main page](../README.md)\n",
    "\n",
    "This notebook fetches data from an API and analyzes the response.\n",
    "\n",
    "We will:\n",
    "- Use a JSON-based API for getting information on Harry Potter characters and spells.\n",
    "- Fetch Hogwarts students data from the API.\n",
    "- Analyze the response and generate classes using `NJsonSchema`."
   ]
  },
  {
   "cell_type": "markdown",
   "id": "9bb3fbe5-c1fd-4ca5-9499-2860850db478",
   "metadata": {},
   "source": [
    "## 📥 Setup parameters and fetch data"
   ]
  },
  {
   "cell_type": "code",
   "execution_count": 13,
   "id": "053df71c",
   "metadata": {
    "polyglot_notebook": {
     "kernelName": "csharp"
    },
    "vscode": {
     "languageId": "polyglot-notebook"
    }
   },
   "outputs": [
    {
     "data": {
      "text/plain": [
       "[{\"id\":\"9e3f7ce4-b9a7-4244-b709-dae5c1f1d4a8\",\"name\":\"Harry Potter\",\"alternate_names\":[\"The Boy Who Lived\",\"The Chosen One\",\"Undesirable No. 1\",\"Potty\"],\"species\":\"human\",\"gender\":\"male\",\"house\":\"Gryffindor\",\"dateOfBirth\":\"31-07-1980\",\"yearOfBirth\":1980,\"wizard\":true,\"ancestry\":\"half-blood\",\"eyeColour\":\"green\",\"hairColour\":\"black\",\"wand\":{\"wood\":\"holly\",\"core\":\"phoenix tail feather\",\"length\":11},\"patronus\":\"stag\",\"hogwartsStudent\":true,\"hogwartsStaff\":false,\"actor\":\"Daniel Radcliffe\",\"alternate_\r\n",
       "..."
      ]
     },
     "metadata": {},
     "output_type": "display_data"
    }
   ],
   "source": [
    "using System.Net.Http;\n",
    "\n",
    "var url = \"https://hp-api.onrender.com/api/characters/students\";\n",
    "\n",
    "var http = new HttpClient();\n",
    "var response = await http.GetStringAsync(url);\n",
    "\n",
    "display(response[0..500] + Environment.NewLine + \"...\");"
   ]
  },
  {
   "cell_type": "markdown",
   "id": "5587eb3e-947e-4903-abc6-c741e64ec3ca",
   "metadata": {},
   "source": [
    "## Analyze the response\n",
    "\n",
    "Install a popular and robust library for working with JSON Schema in C# — **NJsonSchema**.\n",
    "\n",
    "### 🔧 Package References"
   ]
  },
  {
   "cell_type": "code",
   "execution_count": 14,
   "id": "18d3c28c-b348-40ce-9514-cb28ac3e7d60",
   "metadata": {
    "polyglot_notebook": {
     "kernelName": "csharp"
    },
    "vscode": {
     "languageId": "polyglot-notebook"
    }
   },
   "outputs": [
    {
     "data": {
      "text/html": [
       "<div><div></div><div></div><div><strong>Installed Packages</strong><ul><li><span>NJsonSchema, 11.3.2</span></li><li><span>NJsonSchema.CodeGeneration.CSharp, 11.3.2</span></li></ul></div></div>"
      ]
     },
     "metadata": {},
     "output_type": "display_data"
    }
   ],
   "source": [
    "#r \"nuget: NJsonSchema, 11.3.2\"\n",
    "#r \"nuget: NJsonSchema.CodeGeneration.CSharp, 11.3.2\""
   ]
  },
  {
   "cell_type": "markdown",
   "id": "b37f9a38-d711-405f-8e9d-b60ffbe0273e",
   "metadata": {},
   "source": [
    "### Infer Schema from JSON String:"
   ]
  },
  {
   "cell_type": "code",
   "execution_count": 15,
   "id": "18b0210f-c959-4211-930d-dd880e6849c0",
   "metadata": {
    "polyglot_notebook": {
     "kernelName": "csharp"
    },
    "scrolled": true,
    "vscode": {
     "languageId": "polyglot-notebook"
    }
   },
   "outputs": [
    {
     "data": {
      "text/plain": [
       "{\r\n",
       "  \"$schema\": \"http://json-schema.org/draft-04/schema#\",\r\n",
       "  \"type\": \"array\",\r\n",
       "  \"items\": {\r\n",
       "    \"$ref\": \"#/definitions/Anonymous\"\r\n",
       "  },\r\n",
       "  \"definitions\": {\r\n",
       "    \"Alternate_name\": {\r\n",
       "      \"type\": \"string\"\r\n",
       "    },\r\n",
       "    \"Wand\": {\r\n",
       "      \"type\": \"object\",\r\n",
       "      \"properties\": {\r\n",
       "        \"wood\": {\r\n",
       "          \"type\": \"string\"\r\n",
       "        },\r\n",
       "        \"core\": {\r\n",
       "          \"type\": \"string\"\r\n",
       "        },\r\n",
       "        \"length\": {}\r\n",
       "      }\r\n",
       "    },\r\n",
       "    \"Anonymous3\": {\r\n",
       "      \"type\": \"string\"\r\n",
       "    },\r\n",
       "    \"Anonym\r\n",
       "..."
      ]
     },
     "metadata": {},
     "output_type": "display_data"
    }
   ],
   "source": [
    "using NJsonSchema;\n",
    "\n",
    "var schema = JsonSchema.FromSampleJson(response);\n",
    "\n",
    "display(schema.ToJson()[0..500] + Environment.NewLine + \"...\");\n"
   ]
  },
  {
   "cell_type": "code",
   "execution_count": 16,
   "id": "94c72758-73f3-4165-9d1b-fb2804d0cd74",
   "metadata": {
    "polyglot_notebook": {
     "kernelName": "csharp"
    },
    "vscode": {
     "languageId": "polyglot-notebook"
    }
   },
   "outputs": [
    {
     "data": {
      "text/plain": [
       "//----------------------\n",
       "// <auto-generated>\n",
       "//     Generated using the NJsonSchema v11.3.2.0 (Newtonsoft.Json v13.0.0.0) (http://NJsonSchema.org)\n",
       "// </auto-generated>\n",
       "//----------------------\n",
       "\n",
       "\n",
       "#nullable enable\n",
       "\n",
       "\n",
       "namespace HarryPotterApi.Models\n",
       "{\n",
       "    #pragma warning disable // Disable all warnings\n",
       "\n",
       "    [System.CodeDom.Compiler.GeneratedCode(\"NJsonSchema\", \"11.3.2.0 (Newtonsoft.Json v13.0.0.0)\")]\n",
       "    public partial class Student\n",
       "    {\n",
       "        [Newtonsoft.Json.JsonProperty(\"id\", Required = Newton\r\n",
       "..."
      ]
     },
     "metadata": {},
     "output_type": "display_data"
    }
   ],
   "source": [
    "using NJsonSchema.CodeGeneration.CSharp;\n",
    "\n",
    "var codeGenerator = new CSharpGenerator(schema);\n",
    "codeGenerator.Settings.Namespace = \"HarryPotterApi.Models\";\n",
    "codeGenerator.Settings.ClassStyle = CSharpClassStyle.Poco;\n",
    "codeGenerator.Settings.GenerateDataAnnotations = false;\n",
    "codeGenerator.Settings.GenerateNullableReferenceTypes = true;\n",
    "codeGenerator.Settings.GenerateNullableReferenceTypes = true;\n",
    "\n",
    "schema.Definitions[\"Anonymous\"].Title = \"Student\";\n",
    "\n",
    "var file = codeGenerator.GenerateFile();\n",
    "display(file[0..500] + Environment.NewLine + \"...\");\n"
   ]
  },
  {
   "cell_type": "markdown",
   "id": "b443ec32",
   "metadata": {},
   "source": [
    "**Put the generated classes from above:**"
   ]
  },
  {
   "cell_type": "code",
   "execution_count": 17,
   "id": "2f2a09a6-f3b2-430b-87a0-168409debf2b",
   "metadata": {
    "polyglot_notebook": {
     "kernelName": "csharp"
    },
    "vscode": {
     "languageId": "polyglot-notebook"
    }
   },
   "outputs": [],
   "source": [
    "//----------------------\n",
    "// <auto-generated>\n",
    "//     Generated using the NJsonSchema v11.3.2.0 (Newtonsoft.Json v13.0.0.0) (http://NJsonSchema.org)\n",
    "// </auto-generated>\n",
    "//----------------------\n",
    "\n",
    "\n",
    "#nullable enable\n",
    "\n",
    "\n",
    "    #pragma warning disable // Disable all warnings\n",
    "\n",
    "    [System.CodeDom.Compiler.GeneratedCode(\"NJsonSchema\", \"11.3.2.0 (Newtonsoft.Json v13.0.0.0)\")]\n",
    "    public partial class Student\n",
    "    {\n",
    "        [Newtonsoft.Json.JsonProperty(\"id\", Required = Newtonsoft.Json.Required.AllowNull, NullValueHandling = Newtonsoft.Json.NullValueHandling.Ignore)]\n",
    "        public string Id { get; set; } = default!;\n",
    "\n",
    "        [Newtonsoft.Json.JsonProperty(\"name\", Required = Newtonsoft.Json.Required.AllowNull, NullValueHandling = Newtonsoft.Json.NullValueHandling.Ignore)]\n",
    "        public string Name { get; set; } = default!;\n",
    "\n",
    "        [Newtonsoft.Json.JsonProperty(\"alternate_names\", Required = Newtonsoft.Json.Required.AllowNull, NullValueHandling = Newtonsoft.Json.NullValueHandling.Ignore)]\n",
    "        public System.Collections.Generic.ICollection<string> Alternate_names { get; set; } = default!;\n",
    "\n",
    "        [Newtonsoft.Json.JsonProperty(\"species\", Required = Newtonsoft.Json.Required.AllowNull, NullValueHandling = Newtonsoft.Json.NullValueHandling.Ignore)]\n",
    "        public string Species { get; set; } = default!;\n",
    "\n",
    "        [Newtonsoft.Json.JsonProperty(\"gender\", Required = Newtonsoft.Json.Required.AllowNull, NullValueHandling = Newtonsoft.Json.NullValueHandling.Ignore)]\n",
    "        public string Gender { get; set; } = default!;\n",
    "\n",
    "        [Newtonsoft.Json.JsonProperty(\"house\", Required = Newtonsoft.Json.Required.AllowNull, NullValueHandling = Newtonsoft.Json.NullValueHandling.Ignore)]\n",
    "        public string House { get; set; } = default!;\n",
    "\n",
    "        [Newtonsoft.Json.JsonProperty(\"dateOfBirth\", Required = Newtonsoft.Json.Required.AllowNull, NullValueHandling = Newtonsoft.Json.NullValueHandling.Ignore)]\n",
    "        public string DateOfBirth { get; set; } = default!;\n",
    "\n",
    "        [Newtonsoft.Json.JsonProperty(\"yearOfBirth\", Required = Newtonsoft.Json.Required.AllowNull, NullValueHandling = Newtonsoft.Json.NullValueHandling.Ignore)]\n",
    "        public int YearOfBirth { get; set; } = default!;\n",
    "\n",
    "        [Newtonsoft.Json.JsonProperty(\"wizard\", Required = Newtonsoft.Json.Required.AllowNull, NullValueHandling = Newtonsoft.Json.NullValueHandling.Ignore)]\n",
    "        public bool Wizard { get; set; } = default!;\n",
    "\n",
    "        [Newtonsoft.Json.JsonProperty(\"ancestry\", Required = Newtonsoft.Json.Required.AllowNull, NullValueHandling = Newtonsoft.Json.NullValueHandling.Ignore)]\n",
    "        public string Ancestry { get; set; } = default!;\n",
    "\n",
    "        [Newtonsoft.Json.JsonProperty(\"eyeColour\", Required = Newtonsoft.Json.Required.AllowNull, NullValueHandling = Newtonsoft.Json.NullValueHandling.Ignore)]\n",
    "        public string EyeColour { get; set; } = default!;\n",
    "\n",
    "        [Newtonsoft.Json.JsonProperty(\"hairColour\", Required = Newtonsoft.Json.Required.AllowNull, NullValueHandling = Newtonsoft.Json.NullValueHandling.Ignore)]\n",
    "        public string HairColour { get; set; } = default!;\n",
    "\n",
    "        [Newtonsoft.Json.JsonProperty(\"wand\", Required = Newtonsoft.Json.Required.AllowNull, NullValueHandling = Newtonsoft.Json.NullValueHandling.Ignore)]\n",
    "        public Wand Wand { get; set; } = default!;\n",
    "\n",
    "        [Newtonsoft.Json.JsonProperty(\"patronus\", Required = Newtonsoft.Json.Required.AllowNull, NullValueHandling = Newtonsoft.Json.NullValueHandling.Ignore)]\n",
    "        public string Patronus { get; set; } = default!;\n",
    "\n",
    "        [Newtonsoft.Json.JsonProperty(\"hogwartsStudent\", Required = Newtonsoft.Json.Required.AllowNull, NullValueHandling = Newtonsoft.Json.NullValueHandling.Ignore)]\n",
    "        public bool HogwartsStudent { get; set; } = default!;\n",
    "\n",
    "        [Newtonsoft.Json.JsonProperty(\"hogwartsStaff\", Required = Newtonsoft.Json.Required.AllowNull, NullValueHandling = Newtonsoft.Json.NullValueHandling.Ignore)]\n",
    "        public bool HogwartsStaff { get; set; } = default!;\n",
    "\n",
    "        [Newtonsoft.Json.JsonProperty(\"actor\", Required = Newtonsoft.Json.Required.AllowNull, NullValueHandling = Newtonsoft.Json.NullValueHandling.Ignore)]\n",
    "        public string Actor { get; set; } = default!;\n",
    "\n",
    "        [Newtonsoft.Json.JsonProperty(\"alternate_actors\", Required = Newtonsoft.Json.Required.AllowNull, NullValueHandling = Newtonsoft.Json.NullValueHandling.Ignore)]\n",
    "        public System.Collections.Generic.ICollection<object> Alternate_actors { get; set; } = default!;\n",
    "\n",
    "        [Newtonsoft.Json.JsonProperty(\"alive\", Required = Newtonsoft.Json.Required.AllowNull, NullValueHandling = Newtonsoft.Json.NullValueHandling.Ignore)]\n",
    "        public bool Alive { get; set; } = default!;\n",
    "\n",
    "        [Newtonsoft.Json.JsonProperty(\"image\", Required = Newtonsoft.Json.Required.AllowNull, NullValueHandling = Newtonsoft.Json.NullValueHandling.Ignore)]\n",
    "        public string Image { get; set; } = default!;\n",
    "\n",
    "\n",
    "\n",
    "        private System.Collections.Generic.IDictionary<string, object>? _additionalProperties;\n",
    "\n",
    "        [Newtonsoft.Json.JsonExtensionData]\n",
    "        public System.Collections.Generic.IDictionary<string, object> AdditionalProperties\n",
    "        {\n",
    "            get { return _additionalProperties ?? (_additionalProperties = new System.Collections.Generic.Dictionary<string, object>()); }\n",
    "            set { _additionalProperties = value; }\n",
    "        }\n",
    "\n",
    "    }\n",
    "\n",
    "    [System.CodeDom.Compiler.GeneratedCode(\"NJsonSchema\", \"11.3.2.0 (Newtonsoft.Json v13.0.0.0)\")]\n",
    "    public partial class Wand\n",
    "    {\n",
    "        [Newtonsoft.Json.JsonProperty(\"wood\", Required = Newtonsoft.Json.Required.AllowNull, NullValueHandling = Newtonsoft.Json.NullValueHandling.Ignore)]\n",
    "        public string Wood { get; set; } = default!;\n",
    "\n",
    "        [Newtonsoft.Json.JsonProperty(\"core\", Required = Newtonsoft.Json.Required.AllowNull, NullValueHandling = Newtonsoft.Json.NullValueHandling.Ignore)]\n",
    "        public string Core { get; set; } = default!;\n",
    "\n",
    "        [Newtonsoft.Json.JsonProperty(\"length\", Required = Newtonsoft.Json.Required.AllowNull, NullValueHandling = Newtonsoft.Json.NullValueHandling.Ignore)]\n",
    "        public object Length { get; set; } = default!;\n",
    "\n",
    "\n",
    "\n",
    "        private System.Collections.Generic.IDictionary<string, object>? _additionalProperties;\n",
    "\n",
    "        [Newtonsoft.Json.JsonExtensionData]\n",
    "        public System.Collections.Generic.IDictionary<string, object> AdditionalProperties\n",
    "        {\n",
    "            get { return _additionalProperties ?? (_additionalProperties = new System.Collections.Generic.Dictionary<string, object>()); }\n",
    "            set { _additionalProperties = value; }\n",
    "        }\n",
    "\n",
    "    }"
   ]
  },
  {
   "cell_type": "markdown",
   "id": "74fde6af",
   "metadata": {},
   "source": [
    "## Use generated classes to query the data\n",
    "Use **Newtonsoft.Json** to deserialize data and analyze them using **LINQ**\n",
    "\n",
    "### Package references:"
   ]
  },
  {
   "cell_type": "code",
   "execution_count": 18,
   "metadata": {
    "polyglot_notebook": {
     "kernelName": "csharp"
    },
    "vscode": {
     "languageId": "polyglot-notebook"
    }
   },
   "outputs": [
    {
     "data": {
      "text/html": [
       "<div><div></div><div></div><div><strong>Installed Packages</strong><ul><li><span>newtonsoft.json, 13.0.3</span></li></ul></div></div>"
      ]
     },
     "metadata": {},
     "output_type": "display_data"
    }
   ],
   "source": [
    "#r \"nuget: Newtonsoft.Json, 13.0.3\""
   ]
  },
  {
   "cell_type": "markdown",
   "id": "d665a9ef",
   "metadata": {},
   "source": [
    "### Deserialize data"
   ]
  },
  {
   "cell_type": "code",
   "execution_count": 19,
   "metadata": {
    "polyglot_notebook": {
     "kernelName": "csharp"
    },
    "vscode": {
     "languageId": "polyglot-notebook"
    }
   },
   "outputs": [
    {
     "data": {
      "text/html": [
       "<div class=\"dni-plaintext\"><pre>103</pre></div><style>\r\n",
       ".dni-code-hint {\r\n",
       "    font-style: italic;\r\n",
       "    overflow: hidden;\r\n",
       "    white-space: nowrap;\r\n",
       "}\r\n",
       ".dni-treeview {\r\n",
       "    white-space: nowrap;\r\n",
       "}\r\n",
       ".dni-treeview td {\r\n",
       "    vertical-align: top;\r\n",
       "    text-align: start;\r\n",
       "}\r\n",
       "details.dni-treeview {\r\n",
       "    padding-left: 1em;\r\n",
       "}\r\n",
       "table td {\r\n",
       "    text-align: start;\r\n",
       "}\r\n",
       "table tr { \r\n",
       "    vertical-align: top; \r\n",
       "    margin: 0em 0px;\r\n",
       "}\r\n",
       "table tr td pre \r\n",
       "{ \r\n",
       "    vertical-align: top !important; \r\n",
       "    margin: 0em 0px !important;\r\n",
       "} \r\n",
       "table th {\r\n",
       "    text-align: start;\r\n",
       "}\r\n",
       "</style>"
      ]
     },
     "metadata": {},
     "output_type": "display_data"
    }
   ],
   "source": [
    "using Newtonsoft.Json;\n",
    "\n",
    "var students = JsonConvert.DeserializeObject<Student[]>(response);\n",
    "students.Length.Display();\n",
    "\n"
   ]
  },
  {
   "cell_type": "markdown",
   "id": "bbb9204d",
   "metadata": {},
   "source": [
    "### Analyzing deserialized data"
   ]
  },
  {
   "cell_type": "code",
   "execution_count": 20,
   "metadata": {
    "polyglot_notebook": {
     "kernelName": "csharp"
    },
    "vscode": {
     "languageId": "polyglot-notebook"
    }
   },
   "outputs": [
    {
     "data": {
      "text/plain": [
       "Average Gryffindor student age is 44"
      ]
     },
     "metadata": {},
     "output_type": "display_data"
    }
   ],
   "source": [
    "using System.Linq;\n",
    "using System.Globalization;\n",
    "\n",
    "var house = \"Gryffindor\";\n",
    "var avgDate = students\n",
    "    .Where(s => s.House == house && s.Alive && !string.IsNullOrWhiteSpace(s.DateOfBirth))\n",
    "    .Average(s => DateTime.ParseExact(s.DateOfBirth, \"dd-MM-yyyy\", CultureInfo.InvariantCulture).Ticks);\n",
    "\n",
    "var avgDateTime = new DateTime(Convert.ToInt64(avgDate));\n",
    "var avgAge = (int)((DateTime.Now - avgDateTime).TotalDays / 365.25);\n",
    "$\"Average {house} student age is {avgAge}\".Display();\n"
   ]
  }
 ],
 "metadata": {
  "kernelspec": {
   "display_name": ".NET (C#)",
   "language": "C#",
   "name": ".net-csharp"
  },
  "language_info": {
   "file_extension": ".cs",
   "mimetype": "text/x-csharp",
   "name": "C#",
   "pygments_lexer": "csharp",
   "version": "13.0"
  },
  "polyglot_notebook": {
   "kernelInfo": {
    "defaultKernelName": "csharp",
    "items": [
     {
      "aliases": [],
      "name": "csharp"
     }
    ]
   }
  }
 },
 "nbformat": 4,
 "nbformat_minor": 5
}
